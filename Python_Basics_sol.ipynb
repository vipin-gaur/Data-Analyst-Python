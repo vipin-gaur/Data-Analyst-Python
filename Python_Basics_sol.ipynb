{
 "cells": [
  {
   "cell_type": "markdown",
   "id": "c7311dd2-2341-4416-b9a1-f890a8487e17",
   "metadata": {},
   "source": [
    "\n",
    "\n",
    "                                            Theoritical Questions\n",
    "\n"
   ]
  },
  {
   "cell_type": "markdown",
   "id": "a4681703-91db-4afb-a97e-d7c5d0eca4a5",
   "metadata": {},
   "source": [
    "Q1. What is Python, and why is it popular ?\n",
    "\n",
    "A1. Python is a Computer Programming language which is used in many fields. It is so popular because it has a very \n",
    "    huge database of libraries and it is so widespread that every bug every error that you can face is already \n",
    "    solved."
   ]
  },
  {
   "cell_type": "markdown",
   "id": "5257279b-4aaf-462a-8485-f1f5a8896ca0",
   "metadata": {},
   "source": [
    "Q2. What is an interpreter in Python ?\n",
    "\n",
    "A2. An Interpreter is a program that is used to run the code that we write in python. It converts the code that we\n",
    "    write to machine readable code."
   ]
  },
  {
   "cell_type": "markdown",
   "id": "083e3708-05a5-4e87-8575-a91b513bcd2a",
   "metadata": {},
   "source": [
    "Q3. What are pre-defined keywords in Python \n",
    "\n",
    "A3. Pre-defined keywords are words that have a specific meaning and are used to denote a specific syntax."
   ]
  },
  {
   "cell_type": "markdown",
   "id": "efd8e5b7-a2ab-49f4-889d-e30529b19ce3",
   "metadata": {},
   "source": [
    "Q4. Can keywords be used as variable names ?\n",
    "\n",
    "A4. keywords can not be used as variable names."
   ]
  },
  {
   "cell_type": "markdown",
   "id": "51f9d325-67e5-41e8-819c-512e5afd8405",
   "metadata": {},
   "source": [
    "Q5. What is mutability in Python ?\n",
    "\n",
    "A5. Mutability means that if we have assigned a value of something and if it can be changed it is mutable."
   ]
  },
  {
   "cell_type": "markdown",
   "id": "d9fbae77-72f1-44dc-adaf-05f30ed7d632",
   "metadata": {},
   "source": [
    "Q6. Why are lists mutable, but tuples are immutable ?\n",
    "\n",
    "A6. Lists are mutable because the objects of a list can be changed and tuples are immutable because because once\n",
    "    its objects are defined they can not be changed."
   ]
  },
  {
   "cell_type": "markdown",
   "id": "ad54f931-fee9-42e0-a4bf-3cf9fcc0cb41",
   "metadata": {},
   "source": [
    "Q7. What is the difference between “==” and “is” operators in Python ?\n",
    "\n",
    "A7. \"==\" is actually an equality operator it is used when we have to compare two values and \"is\" operator is used \n",
    "    when we have to check if two variables have same identity "
   ]
  },
  {
   "cell_type": "markdown",
   "id": "bd8e1026-1cca-48de-b70f-4203071b9e1b",
   "metadata": {},
   "source": [
    "Q8. What are logical operators in Python ?\n",
    "\n",
    "A8. Logical operators are \"and\" and \"or\" these are used when we have two conditions and the result is based if one \n",
    "    or both are true or false "
   ]
  },
  {
   "cell_type": "markdown",
   "id": "d0bb09c9-b58c-4322-b535-c4d238299daf",
   "metadata": {},
   "source": [
    "Q9. What is type casting in Python ?\n",
    "\n",
    "A9. Type casting is conversion of one type of data type to another data type it is widely used in data industry"
   ]
  },
  {
   "cell_type": "markdown",
   "id": "ed17aedc-18e9-43ca-8d7a-b9c7e351798d",
   "metadata": {},
   "source": [
    "Q10. What is the difference between implicit and explicit type casting ?\n",
    "\n",
    "A10. Implicit typecasting is when interpreter understands the data type automatically and explicit is when user\n",
    "     have to define the data type for eg. a = 3 is implicit and int(3) is explicit type casting."
   ]
  },
  {
   "cell_type": "markdown",
   "id": "205678dc-8713-4c96-8f03-848df61c2a28",
   "metadata": {},
   "source": [
    "Q11. what is the purpose of conidtional statements in Python ?\n",
    "\n",
    "A11. Main purpose of conditional statements is to check and execute the specified condition i.e. it is used when we\n",
    "     have one or more that on condition and we have to execute them if they're True or False."
   ]
  },
  {
   "cell_type": "markdown",
   "id": "37d717dc-0949-4fa1-afaa-9b74857f579e",
   "metadata": {},
   "source": [
    "Q12. How does the elif statement work ?\n",
    "\n",
    "A12. elif statement is when we use the if statement but we have more that one condition to be checked then we use elif \n",
    "     statement in this statement every condition is checked one by one."
   ]
  },
  {
   "cell_type": "markdown",
   "id": "1cd63c38-c048-4973-8f63-ec7b7db07a07",
   "metadata": {},
   "source": [
    "Q13. What is the difference between for and while loops ?\n",
    "\n",
    "A13. for loop is used when we have to check the condition on a sequence of data for eg a list and string\n",
    "     while loop is used when we have to keep checking the condition until a specific condition is met"
   ]
  },
  {
   "cell_type": "markdown",
   "id": "cf2d9b19-6a0f-49ac-bf92-5cafb695ffb3",
   "metadata": {},
   "source": [
    "Q14. Describe a scenario where a while loop is more suitable than a for loop.\n",
    "\n",
    "A14. while using the \"for\" loop we know how many times the loop will run but \"while\" loop runs until a condition\n",
    "    is met and we can break it when that condition is met so when we don't know how many iterations the program \n",
    "    has to do it is more suitable to use \"while\" loop."
   ]
  },
  {
   "cell_type": "markdown",
   "id": "e14b84ce-1fe0-4d9a-8c72-d555de78f8a0",
   "metadata": {},
   "source": [
    "\n",
    "\n",
    "                                              PRACTICAL QUESTIONS\n",
    "\n"
   ]
  },
  {
   "cell_type": "markdown",
   "id": "870483c6-ccae-41e5-9643-79c31ade855a",
   "metadata": {},
   "source": [
    "Q1. Write a Python program to print \"Hello, World\""
   ]
  },
  {
   "cell_type": "code",
   "execution_count": null,
   "id": "006f9b8e-032a-48d9-944c-25a47f258a8c",
   "metadata": {
    "scrolled": true
   },
   "outputs": [],
   "source": [
    "    print(\"Hello, World\")"
   ]
  },
  {
   "cell_type": "markdown",
   "id": "583b1a76-5840-4e8a-9fb2-63c05d21ffb7",
   "metadata": {},
   "source": [
    "Q2. Write a Python program that displays your name and age"
   ]
  },
  {
   "cell_type": "code",
   "execution_count": null,
   "id": "6e8c5951-f739-439e-9d6c-f084f8f107d5",
   "metadata": {},
   "outputs": [],
   "source": [
    "    name = \"vipin Gaur\"\n",
    "    age = 22\n",
    "    print(\"My Name is \",name)\n",
    "    print(\"My Age is \",age)"
   ]
  },
  {
   "cell_type": "markdown",
   "id": "d31b7f97-9bc5-4571-8531-23135273a529",
   "metadata": {},
   "source": [
    "Q3. Write code to print all the pre-defined keywords in Python using the keyword library"
   ]
  },
  {
   "cell_type": "code",
   "execution_count": 4,
   "id": "29363847-8dea-4d2d-8769-79875fcd461c",
   "metadata": {},
   "outputs": [
    {
     "name": "stdout",
     "output_type": "stream",
     "text": [
      "['False', 'None', 'True', 'and', 'as', 'assert', 'async', 'await', 'break', 'class', 'continue', 'def', 'del', 'elif', 'else', 'except', 'finally', 'for', 'from', 'global', 'if', 'import', 'in', 'is', 'lambda', 'nonlocal', 'not', 'or', 'pass', 'raise', 'return', 'try', 'while', 'with', 'yield']\n"
     ]
    }
   ],
   "source": [
    "    # we can use the library named \"keyword\" to fetch all the keywords present in python\n",
    "    import keyword\n",
    "    keyword_list = keyword.kwlist\n",
    "    print(keyword_list)"
   ]
  },
  {
   "cell_type": "markdown",
   "id": "03426794-2ca6-4de8-a3db-99edd5d84444",
   "metadata": {},
   "source": [
    "Q4. Write a program that checks if a given word is a Python keyword"
   ]
  },
  {
   "cell_type": "code",
   "execution_count": 3,
   "id": "03ea7637-fdf7-4279-b0db-397af4d3e1a9",
   "metadata": {
    "scrolled": true
   },
   "outputs": [
    {
     "name": "stdin",
     "output_type": "stream",
     "text": [
      "enter a word to check if it is a python keyword or not not\n"
     ]
    },
    {
     "name": "stdout",
     "output_type": "stream",
     "text": [
      "your entered word is a keyword\n",
      "your word is a python keyword\n"
     ]
    }
   ],
   "source": [
    "    kw = input(\"enter a word to check if it is a python keyword or not\")\n",
    "    # two methods to check first is using the predefined keyword\n",
    "    import keyword \n",
    "    if keyword.iskeyword(kw) :\n",
    "        print(\"your entered word is a keyword\")\n",
    "    else :\n",
    "        print(\"your entered word is not a keyword\")\n",
    "\n",
    "    # other is by first creating the list of keywords and checking if input is in it or not\n",
    "    import keyword\n",
    "    keyword_list = keyword.kwlist\n",
    "\n",
    "    if kw in keyword_list :\n",
    "        print('your word is a python keyword')\n",
    "    else :\n",
    "        print(\"your word is not a python keyword\")"
   ]
  },
  {
   "cell_type": "markdown",
   "id": "731cdda9-0fc6-4d7f-9700-3201b02ea37d",
   "metadata": {},
   "source": [
    "Q5. Create a list and tuple in Python, and demonstrate how attempting to change an element works differently for each"
   ]
  },
  {
   "cell_type": "code",
   "execution_count": null,
   "id": "dda66c26-92a5-4667-b55d-ece5531ceb9c",
   "metadata": {},
   "outputs": [],
   "source": [
    "    list_a = [\"x\" , 3, 5.6 , True ]\n",
    "    tuple_a = (\"z\", 6,9, False )\n",
    "\n",
    "    # initially second element of list_a is 5.6\n",
    "    print(\"second element of list is\" ,list_a[2])\n",
    "\n",
    "    # here when we change the second element of list_a it can be changed\n",
    "    list_a[2] = 5.7\n",
    "\n",
    "    # after this code output of second element of list will be 5.7 instead of 5.6\n",
    "    print(\"now the secone element of list after its been changed is\" ,list_a[2])\n",
    "\n",
    "    # now when we try to change the second element of tuple_a it can not be changed it will throw an error\n",
    "    print(\"the second element of tuple_a is\" ,tuple_a[2])\n",
    "    tuple_a[2] = 6\n",
    "    "
   ]
  },
  {
   "cell_type": "markdown",
   "id": "d3fdba32-54a5-4938-a298-404b85b50536",
   "metadata": {},
   "source": [
    "Q6. Write a function to demonstrate the behavior of mutable and immutable arguments"
   ]
  },
  {
   "cell_type": "code",
   "execution_count": null,
   "id": "3cc8517c-db80-4fd2-afbe-f74868642a59",
   "metadata": {},
   "outputs": [],
   "source": [
    "    # we will change the element of a list which is immutable\n",
    "    l = [\"h\",2,3,6.7]\n",
    "    l[2] = l[1] + l[3]\n",
    "\n",
    "    # here i have changed the second element of this list \n",
    "    print(\"new value of l[2] is\" ,l[2])\n",
    "\n",
    "    # immutable arguments are those which can not be changed i.e. string,int,float\n",
    "    st = \"vipin\"\n",
    "    print(\"third letter of string st is\" ,st[2])\n",
    "\n",
    "    # now if we try to change the characters of this string it will thorow an error\n",
    "    st[2] = \"g\""
   ]
  },
  {
   "cell_type": "markdown",
   "id": "1b7efbc6-c3c1-413d-bc24-9bab3e1adcc5",
   "metadata": {},
   "source": [
    "Q7.  Write a function to demonstrate the behavior of mutable and immutable arguments(question 6&7 are same in qp)"
   ]
  },
  {
   "cell_type": "code",
   "execution_count": null,
   "id": "0a9bdb40-2870-4af2-ba22-e53c21e24c3e",
   "metadata": {},
   "outputs": [],
   "source": [
    "    # we will change the element of a list which is immutable\n",
    "    l = [\"h\",2,3,6.7]\n",
    "    l[2] = l[1] + l[3]\n",
    "\n",
    "    # here i have changed the second element of this list \n",
    "    print(\"new value of l[2] is\" ,l[2])\n",
    "\n",
    "    # immutable arguments are those which can not be changed i.e. string,int,float\n",
    "    st = \"vipin\"\n",
    "    print(\"third letter of string st is\" ,st[2])\n",
    "\n",
    "    # now if we try to change the characters of this string it will thorow an error\n",
    "    st[2] = \"g\""
   ]
  },
  {
   "cell_type": "markdown",
   "id": "07d15946-b82b-432a-aa83-28470000505c",
   "metadata": {},
   "source": [
    "Q8. Write a program to demonstrate the use of logical operators"
   ]
  },
  {
   "cell_type": "code",
   "execution_count": null,
   "id": "0613d074-02d8-4c04-99fb-6d327355602c",
   "metadata": {},
   "outputs": [],
   "source": [
    "    # two types of logical operators are \"and\" and \"or\"\n",
    "    c = 3\n",
    "    n = 8\n",
    "    b = 4\n",
    "    # in \"and\" operator both or all the conditions have to be true for it to be true for eg\n",
    "    if c > 1 and n > 5 :\n",
    "        print(\"c is greater than 1 and n is greater than 5\")\n",
    "    if c > 1 and n > 10 :\n",
    "        print(\"c is greater than 1 and n is greater than 10\")\n",
    "\n",
    "    # as in second case n is not greater than 10 then it gives the output False so it is not executed\n",
    "\n",
    "    # in \"or\" operator only one condition has to be true for it to be true for eg\n",
    "\n",
    "    if c > 1 or n > 5 :\n",
    "        print(\"either c is greater than 1 or n is greater than 5 or both\")\n",
    "    # as we can see that when both the conditions are true it prints the statement\n",
    "\n",
    "    if c > 1 or n > 10 :\n",
    "        print(\"either c is greater than 1 or n is greater than 10 or both\")\n",
    "    # here we can see that only one condition is true still it executes the statement\n"
   ]
  },
  {
   "cell_type": "markdown",
   "id": "240431ab-3ef0-4005-9669-3f47e25571a9",
   "metadata": {},
   "source": [
    "Q9. Write a Python program to convert user input from string to integer, float, and boolean types"
   ]
  },
  {
   "cell_type": "code",
   "execution_count": null,
   "id": "a9f78464-9fbd-481f-88a2-f02640567f1d",
   "metadata": {},
   "outputs": [],
   "source": [
    "    i = input(\"write a number between 0 to 10\")\n",
    "    type(i)\n",
    "    # we can see that data type of input i is string\n",
    "\n",
    "    # now we convert input string to different data types \n",
    "    i = int(i)\n",
    "    print(\"your number in integer form is\", i)\n",
    "    i = float(i)\n",
    "    print(\"your number in decimal form is\", i)\n",
    "    i = bool(i)\n",
    "    print(\"you number in boolean form is\", i)\n"
   ]
  },
  {
   "cell_type": "markdown",
   "id": "078d55ff-dcac-4748-83bb-af5bae6b1e6f",
   "metadata": {},
   "source": [
    "Q10. Write code to demonstrate type casting with list elements"
   ]
  },
  {
   "cell_type": "code",
   "execution_count": null,
   "id": "aedc81b8-7570-4bd6-b25c-4ad169867fff",
   "metadata": {},
   "outputs": [],
   "source": [
    "    tl_list = [\"s\",5.6, 3, True, 6.9 ]\n",
    "\n",
    "    print(type(tl_list[1]))\n",
    "\n",
    "    # here we can see that data type of list element with index 1 is float\n",
    "\n",
    "    tl_list[1] = int(tl_list[1])\n",
    "\n",
    "    # after conversion the data type is now integer\n",
    "    print(type(tl_list[1]))\n",
    "\n",
    "    # we can convert data type of elements of list in the same way as this "
   ]
  },
  {
   "cell_type": "markdown",
   "id": "6b53f846-4ce6-4b96-961e-8000e219b6af",
   "metadata": {},
   "source": [
    "Q11. Write a program that checks if a number is positive, negative, or zero"
   ]
  },
  {
   "cell_type": "code",
   "execution_count": null,
   "id": "9d1ffb05-b2fe-4465-b835-1ef87f2aeb2b",
   "metadata": {},
   "outputs": [],
   "source": [
    "    u = input(\"input the number that you want to check\")\n",
    "    u = float(u)\n",
    "\n",
    "    if u > 0 :\n",
    "        print(\"your number is positive\")\n",
    "    elif u < 0 :\n",
    "        print(\"your number is negative\")\n",
    "    else :\n",
    "        print(\"your number is zero\")\n",
    "        \n",
    "        "
   ]
  },
  {
   "cell_type": "markdown",
   "id": "523a1dc6-c90b-4f78-8fa6-96367e30801b",
   "metadata": {},
   "source": [
    "Q12. Write a for loop to print numbers from 1 to 10"
   ]
  },
  {
   "cell_type": "code",
   "execution_count": null,
   "id": "4405a57d-1771-46a6-9f54-831173f957d1",
   "metadata": {},
   "outputs": [],
   "source": [
    "    # printing 1 to 10 using \"for\" loop\n",
    "    for c in range(11):\n",
    "        if c == 0:\n",
    "            continue\n",
    "        print(c)\n",
    "    print()\n",
    "\n",
    "    # printing 1 to 10 using \"while\" loop\n",
    "    start = 1 \n",
    "    end = 10\n",
    "    while start <= end :\n",
    "        print(start)\n",
    "        start = start + 1"
   ]
  },
  {
   "cell_type": "markdown",
   "id": "4e4e783b-cc1d-4974-b5dc-ad0524162840",
   "metadata": {},
   "source": [
    "Q13. Write a Python program to find the sum of all even numbers between 1 and 50"
   ]
  },
  {
   "cell_type": "code",
   "execution_count": null,
   "id": "fb581f32-8dd5-48f4-ae18-b597e3c02dd3",
   "metadata": {},
   "outputs": [],
   "source": [
    "    # using \"for\" loop\n",
    "    addition = 0\n",
    "    for e in range(1,51):\n",
    "        if e%2 == 0:\n",
    "            addition = addition + e\n",
    "    print(\"sum of all even numbers between 1 and 50 is\",addition)\n"
   ]
  },
  {
   "cell_type": "markdown",
   "id": "18cf4028-0c37-4dd3-a0be-44edbdd02a48",
   "metadata": {},
   "source": [
    "Q14. Write a program to reverse a string using a while loop"
   ]
  },
  {
   "cell_type": "code",
   "execution_count": null,
   "id": "6edc446b-6a1d-4b1a-ae71-680e09c53638",
   "metadata": {},
   "outputs": [],
   "source": [
    "    string = input(\"Enter a word\")\n",
    "    length = len(string)\n",
    "\n",
    "    while length > 0 :\n",
    "        print(string[(length - 1)] , end = \"\")\n",
    "        length = length - 1\n",
    "        "
   ]
  },
  {
   "cell_type": "markdown",
   "id": "c59b5f21-c981-45bf-9108-b18aab0bffbd",
   "metadata": {},
   "source": [
    "Q15. Write a Python program to calculate the factorial of a number provided by the user using a while loop"
   ]
  },
  {
   "cell_type": "code",
   "execution_count": null,
   "id": "7b55c90d-464a-4aec-87e1-33837a8624c5",
   "metadata": {},
   "outputs": [],
   "source": [
    "    num = input(\"Enter a number to find the factorial\")\n",
    "    num = int(num)\n",
    "    f = 1\n",
    "    factorial = 1\n",
    "    while f <= num  :\n",
    "        factorial = factorial*f\n",
    "        f = f+1\n",
    "    print(factorial)"
   ]
  }
 ],
 "metadata": {
  "kernelspec": {
   "display_name": "Python 3 (ipykernel)",
   "language": "python",
   "name": "python3"
  },
  "language_info": {
   "codemirror_mode": {
    "name": "ipython",
    "version": 3
   },
   "file_extension": ".py",
   "mimetype": "text/x-python",
   "name": "python",
   "nbconvert_exporter": "python",
   "pygments_lexer": "ipython3",
   "version": "3.13.1"
  }
 },
 "nbformat": 4,
 "nbformat_minor": 5
}
