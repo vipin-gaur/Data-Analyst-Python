{
 "cells": [
  {
   "cell_type": "markdown",
   "metadata": {},
   "source": [
    "                                      Theoritical Questions                                               "
   ]
  },
  {
   "cell_type": "markdown",
   "metadata": {},
   "source": [
    "Q1. What are data structures, and why are they important ?\n",
    "\n",
    "A1. Data structure are specific format for storing,organizing,manipulating data they are important as there are \n",
    "    many different types of data so if we have different data structures it will be much efficient to program."
   ]
  },
  {
   "cell_type": "markdown",
   "metadata": {},
   "source": [
    "Q2. Explain the difference between mutable and immutable data types with examples \n",
    "\n",
    "A2. Mutable data types are that which can be changed after defining once for eg. list, dictionary. and\n",
    "    immutable data type are those which can not be changed eg. string, tuple "
   ]
  },
  {
   "cell_type": "markdown",
   "metadata": {},
   "source": [
    "Q3. What are the main differences between lists and tuples in Python ?\n",
    "\n",
    "A3. Lists and tuples in Python are almost same the only difference is that the elements of a List can be changed\n",
    "    and the elements of a tuple can not be changed. list is defined as a = [\"rahul\", 2,3] and tuple is defined\n",
    "    as b = (\"rahul\", 2,3)"
   ]
  },
  {
   "cell_type": "markdown",
   "metadata": {},
   "source": [
    "Q4. Describe how dictionaries store data ?\n",
    "\n",
    "A4. Dictionaries is an unorganized data type it has key and value pair i.e. the data in dictionary is not stored\n",
    "     in an organized manner we have to assign a key and value in a dictionary. it is defined as dict = {\"name\": \"vipin\" , \"age\": 22 }"
   ]
  },
  {
   "cell_type": "markdown",
   "metadata": {},
   "source": [
    "Q5. Why might you use a set instead of a list in Python ?\n",
    "\n",
    "A5. In list when you have have an element twice in it it counts it as the element is two times in it and in a \n",
    "    set it combines all the same elements to one element so suppose when we have to make a leaderboard with \n",
    "    most marks and if two students have same marks a set will combine them and show only once."
   ]
  },
  {
   "cell_type": "markdown",
   "metadata": {},
   "source": [
    "Q6. What is a string in Python, and how is it different from a list ?\n",
    "\n",
    "A6. A string is a data type that can only store data in text form and list is a data type which can store many\n",
    "    data types for eg. a = \"name\" is a string and x = [\"name\",2,5,3.6,\"age\":22,] is a list "
   ]
  },
  {
   "cell_type": "markdown",
   "metadata": {},
   "source": [
    "Q7. How do tuples ensure data integrity in Python ?\n",
    "\n",
    "A7. As we know that once a tuple is defined it can not be changed and it means that data is reliable ,accurate\n",
    "    and mistake free"
   ]
  },
  {
   "cell_type": "markdown",
   "metadata": {},
   "source": [
    "Q8. What is a hash table, and how does it relate to dictionaries in Python?\n",
    "\n",
    "Q8. Hash table is a function that associates or maps values to keys i.e. combines the indexes of values and keys"
   ]
  },
  {
   "cell_type": "markdown",
   "metadata": {},
   "source": [
    "Q9. Can lists contain different data types in Python ?\n",
    "\n",
    "A9. Yes, a list can contain different data types like string,integer,boolean,float,tuple,dictionary a list can\n",
    "    even contain a different list in it. it is a flexible data structure."
   ]
  },
  {
   "cell_type": "markdown",
   "metadata": {},
   "source": [
    "Q10.Explain why strings are immutable in Python ?\n",
    "\n",
    "A10.Strings are immutable in python on its own that means that a string can not be changed we can only access \n",
    "    it afterwards."
   ]
  },
  {
   "cell_type": "markdown",
   "metadata": {},
   "source": [
    "Q11.What advantages do dictionaries offer over lists for certain tasks ?\n",
    "\n",
    "A11.Dictionaries has a key-value pair which means we can assign a value to a key so suppose we are saving \n",
    "    contact numbers with names we can save names as keys and numbers as values for eg.\n",
    "    contactbook = {\"vipin\":123,\"ram\":456,\"shyam\":789} here it is an efficient way of defining it as dictionary\n",
    "    instead of list"
   ]
  },
  {
   "cell_type": "markdown",
   "metadata": {},
   "source": [
    "Q12.Describe a scenario where using a tuple would be preferable over a list\n",
    "\n",
    "A12.As we know that tuples are immutable so we can use it for things which we do not ever want to change for eg.\n",
    "    we do not want to change ATM Card details , Employee name ,Employee ID and Govt. identification documents."
   ]
  },
  {
   "cell_type": "markdown",
   "metadata": {},
   "source": [
    "Q13.How do sets handle duplicate values in Python\n",
    "\n",
    "A13.A set merges all the duplicate values into one no matter how many times it is in the set "
   ]
  },
  {
   "cell_type": "markdown",
   "metadata": {},
   "source": [
    "Q14.How does the “in” keyword work differently for lists and dictionaries\n",
    "\n",
    "A14. In lists the \"In\" keyword is used to iterate the list or check if an element is present in list or not in \n",
    "    dictionary it is also same but a dictionary has a key value pair so we have to assign two different characters to to check for the key value pair in the dictionary and if we want to check one at a time we have to create a only keys or only value list"
   ]
  },
  {
   "cell_type": "markdown",
   "metadata": {},
   "source": [
    "Q15.Can you modify the elements of a tuple? Explain why or why not.\n",
    "\n",
    "A15. No, we can not modify a tuple as it is a predefined data structure which is immutable thats that's why it\n",
    "    can not be changed"
   ]
  },
  {
   "cell_type": "markdown",
   "metadata": {},
   "source": [
    "Q16.What is a nested dictionary, and give an example of its use case.\n",
    "\n",
    "A16. When we create a dictionary within a dictionary itself it is called a nested dictionary it can be created\n",
    "    as - d = {\"dish1\":{\"name\":\"pizza\", \"base\":\"soft\",\"toppings\":\"capsicum and olive\"}}"
   ]
  },
  {
   "cell_type": "markdown",
   "metadata": {},
   "source": [
    "Q17.Describe the time complexity of accessing elements in a dictionary.\n",
    "\n",
    "A17. In a dictionary we have key value pairs and for some things it is even better like for phonebook contacts\n",
    "    we can assign a value(phone number) to a key(name) and we can retrieve the phone number by name and it is \n",
    "    more efficient that accessing these through a list.\n"
   ]
  },
  {
   "cell_type": "markdown",
   "metadata": {},
   "source": [
    "Q18.In what situations are lists preferred over dictionaries ?\n",
    "\n",
    "A18. when we have a queue or stack it is highly recommended to use a list over dictionary i.e. when we have to \n",
    "    have data in an ordered form ."
   ]
  },
  {
   "cell_type": "markdown",
   "metadata": {},
   "source": [
    "Q19.Why are dictionaries considered unordered, and how does that affect data retrieval ?\n",
    "\n",
    "A19. Dictionaries are unordered as they don't have index instead of it they have keys and every key has a value\n",
    "    assigned to it .It helps in accessing the data easily."
   ]
  },
  {
   "cell_type": "markdown",
   "metadata": {},
   "source": [
    "Q20.Explain the difference between a list and a dictionary in terms of data retrieval.\n",
    "\n",
    "A20. In a list we can retrieve data using the index of elements but in dictionary we do not have such thing like\n",
    "    index instead of it we have keys we can retrieve data using the keys instead of index."
   ]
  },
  {
   "cell_type": "markdown",
   "metadata": {},
   "source": [
    "                                       Practical Questions                                                    "
   ]
  },
  {
   "cell_type": "markdown",
   "metadata": {},
   "source": [
    "Q1. Write a code to create a string with your name and print it."
   ]
  },
  {
   "cell_type": "code",
   "execution_count": null,
   "metadata": {},
   "outputs": [],
   "source": [
    "name = \"Vipin Gaur\"\n",
    "print(name)"
   ]
  },
  {
   "cell_type": "markdown",
   "metadata": {},
   "source": [
    "Q2. Write a code to find the length of the string \"Hello World\"."
   ]
  },
  {
   "cell_type": "code",
   "execution_count": null,
   "metadata": {},
   "outputs": [],
   "source": [
    "string = \"Hello World\"\n",
    "length = len(string)\n",
    "print(length) "
   ]
  },
  {
   "cell_type": "markdown",
   "metadata": {},
   "source": [
    "Q3. Write a code to slice the first 3 characters from the string \"Python Programming\"."
   ]
  },
  {
   "cell_type": "code",
   "execution_count": null,
   "metadata": {},
   "outputs": [],
   "source": [
    "string = \"Python Programming\"\n",
    "string[:3]"
   ]
  },
  {
   "cell_type": "markdown",
   "metadata": {},
   "source": [
    "Q4. Write a code to convert the string \"hello\" to uppercase."
   ]
  },
  {
   "cell_type": "code",
   "execution_count": null,
   "metadata": {},
   "outputs": [],
   "source": [
    "x = \"hello\"\n",
    "upper_x = x.upper()\n",
    "print(upper_x)"
   ]
  },
  {
   "cell_type": "markdown",
   "metadata": {},
   "source": [
    "Q5. Write a code to replace the word \"apple\" with \"orange\" in the string \"I like apple\""
   ]
  },
  {
   "cell_type": "code",
   "execution_count": null,
   "metadata": {},
   "outputs": [],
   "source": [
    "d = \"I like apple\"\n",
    "d = d.replace(\"apple\",\"orange\")\n",
    "print(d)"
   ]
  },
  {
   "cell_type": "markdown",
   "metadata": {},
   "source": [
    "Q6.  Write a code to create a list with numbers 1 to 5 and print it."
   ]
  },
  {
   "cell_type": "code",
   "execution_count": null,
   "metadata": {},
   "outputs": [],
   "source": [
    "lst = list(range(1,6))\n",
    "print(lst)"
   ]
  },
  {
   "cell_type": "markdown",
   "metadata": {},
   "source": [
    "Q7. Write a code to append the number 10 to the list [1, 2, 3, 4]."
   ]
  },
  {
   "cell_type": "code",
   "execution_count": null,
   "metadata": {},
   "outputs": [],
   "source": [
    "lst_1 = list(range(1,5))\n",
    "print(lst_1)\n",
    "lst_1.append(10)\n",
    "print(lst_1)"
   ]
  },
  {
   "cell_type": "markdown",
   "metadata": {},
   "source": [
    "Q8.  Write a code to remove the number 3 from the list [1, 2, 3, 4, 5]."
   ]
  },
  {
   "cell_type": "code",
   "execution_count": null,
   "metadata": {},
   "outputs": [],
   "source": [
    "lst = [1,2,3,4,5]\n",
    "lst.remove(3)\n",
    "print(lst)"
   ]
  },
  {
   "cell_type": "markdown",
   "metadata": {},
   "source": [
    " Q9. Write a code to access the second element in the list ['a', 'b', 'c', 'd']."
   ]
  },
  {
   "cell_type": "code",
   "execution_count": null,
   "metadata": {},
   "outputs": [],
   "source": [
    "z = ['a','b','c','d']\n",
    "# in the list the indexing starts form 0 so the index of the second element of the list is \"1\"\n",
    "print(z[1])"
   ]
  },
  {
   "cell_type": "markdown",
   "metadata": {},
   "source": [
    "Q10.  Write a code to reverse the list [10, 20, 30, 40, 50]."
   ]
  },
  {
   "cell_type": "code",
   "execution_count": null,
   "metadata": {},
   "outputs": [],
   "source": [
    "r_list = list(range(10,60,10))\n",
    "print(r_list)\n",
    "print(r_list[::-1])"
   ]
  },
  {
   "cell_type": "markdown",
   "metadata": {},
   "source": [
    "Q11. Write a code to create a tuple with the elements 10, 20, 30 and print it."
   ]
  },
  {
   "cell_type": "code",
   "execution_count": null,
   "metadata": {},
   "outputs": [],
   "source": [
    "tuple_x = tuple(range(10,40,10))\n",
    "print(tuple_x)"
   ]
  },
  {
   "cell_type": "markdown",
   "metadata": {},
   "source": [
    "Q12. Write a code to access the first element of the tuple ('apple', 'banana', 'cherry')."
   ]
  },
  {
   "cell_type": "code",
   "execution_count": null,
   "metadata": {},
   "outputs": [],
   "source": [
    "tuple_t = ('apple','banana','cherry')\n",
    "# here the indexing also starts form 0 to the index of the first element will be 0\n",
    "print(tuple_t[0])"
   ]
  },
  {
   "cell_type": "markdown",
   "metadata": {},
   "source": [
    "Q13.  Write a code to count how many times the number 2 appears in the tuple (1, 2, 3, 2, 4, 2)."
   ]
  },
  {
   "cell_type": "code",
   "execution_count": null,
   "metadata": {},
   "outputs": [],
   "source": [
    "tuple_y = (1,2,3,2,4,2)\n",
    "print(\"number 2 has appeared\" ,tuple_y.count(2) , \"times in the tuple\")\n"
   ]
  },
  {
   "cell_type": "markdown",
   "metadata": {},
   "source": [
    "Q14. Write a code to find the index of the element \"cat\" in the tuple ('dog', 'cat', 'rabbit')."
   ]
  },
  {
   "cell_type": "code",
   "execution_count": null,
   "metadata": {},
   "outputs": [],
   "source": [
    "tuple_z = ('dog','cat','rabbit')\n",
    "tuple_z.index(\"cat\")"
   ]
  },
  {
   "cell_type": "markdown",
   "metadata": {},
   "source": [
    "Q15.Write a code to check if the element \"banana\" is in the tuple ('apple', 'orange', 'banana')."
   ]
  },
  {
   "cell_type": "code",
   "execution_count": null,
   "metadata": {},
   "outputs": [],
   "source": [
    "tuple_x = ('apple','orange','banana')\n",
    "if \"banana\" in tuple_x :\n",
    "    print(\"'banana' is present in this tuple\")"
   ]
  },
  {
   "cell_type": "markdown",
   "metadata": {},
   "source": [
    " Q16.Write a code to create a set with the elements 1, 2, 3, 4, 5 and print it."
   ]
  },
  {
   "cell_type": "code",
   "execution_count": null,
   "metadata": {},
   "outputs": [],
   "source": [
    "set_t = set(range(1,6))\n",
    "print(set_t)"
   ]
  },
  {
   "cell_type": "markdown",
   "metadata": {},
   "source": [
    "Q17. Write a code to add the element 6 to the set {1, 2, 3, 4}."
   ]
  },
  {
   "cell_type": "code",
   "execution_count": null,
   "metadata": {},
   "outputs": [],
   "source": [
    "set_x = set(range(1,5))\n",
    "print(set_x)\n",
    "set_x.add(6)\n",
    "print(set_x)"
   ]
  },
  {
   "cell_type": "markdown",
   "metadata": {},
   "source": [
    "Q18. FROM NOW ON THE QUESTIONS ARE REPEATED FROM QUESTION NUMBER 11 MAYBE THAT IS A TECHNICAL MISTAKE I CAN'T FIND QUESTIONS FOR THE TOPIC DICTIONARY IN MY QUESTION PAPER"
   ]
  }
 ],
 "metadata": {
  "kernelspec": {
   "display_name": "Python 3",
   "language": "python",
   "name": "python3"
  },
  "language_info": {
   "codemirror_mode": {
    "name": "ipython",
    "version": 3
   },
   "file_extension": ".py",
   "mimetype": "text/x-python",
   "name": "python",
   "nbconvert_exporter": "python",
   "pygments_lexer": "ipython3",
   "version": "3.13.1"
  }
 },
 "nbformat": 4,
 "nbformat_minor": 2
}
