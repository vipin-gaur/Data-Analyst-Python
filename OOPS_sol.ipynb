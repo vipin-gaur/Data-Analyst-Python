{
 "cells": [
  {
   "cell_type": "markdown",
   "metadata": {},
   "source": [
    "                                        THEORITICAL QUESTIONS"
   ]
  },
  {
   "cell_type": "markdown",
   "metadata": {},
   "source": [
    "Q1. What is Object-Oriented Programming (OOP)"
   ]
  },
  {
   "cell_type": "markdown",
   "metadata": {},
   "source": [
    "Object Oriented Programing is a programing concept that uses objects and classes to make software programs it mainly has these concepts: class,object,inheritance,polymorphism,abstraction , encapsulation"
   ]
  },
  {
   "cell_type": "markdown",
   "metadata": {},
   "source": [
    "Q2. What is a class in OOP"
   ]
  },
  {
   "cell_type": "markdown",
   "metadata": {},
   "source": [
    "A class in OOP is a blueprint or template to create different objects it has methods that the object created form the class will have "
   ]
  },
  {
   "cell_type": "markdown",
   "metadata": {},
   "source": [
    "Q3. What is an object in OOP"
   ]
  },
  {
   "cell_type": "markdown",
   "metadata": {},
   "source": [
    "object in OOP is instance of the class it contains attributes and methods of the class that it is made form "
   ]
  },
  {
   "cell_type": "markdown",
   "metadata": {},
   "source": [
    "Q4. What is the difference between abstraction and encapsulation"
   ]
  },
  {
   "cell_type": "markdown",
   "metadata": {},
   "source": [
    "Abstraction is concept of hiding importand or complex details and only showing basic features of an object \n",
    "Encapsulation is concept of bundling attributes and methods into single unit it prevents accidental changes and misuse of data "
   ]
  },
  {
   "cell_type": "markdown",
   "metadata": {},
   "source": [
    "Q5. What are dunder methods in Python"
   ]
  },
  {
   "cell_type": "markdown",
   "metadata": {},
   "source": [
    "dunder methods are also called magic methods they starts and ends with double underscores these provides special actions to classes and objects one most used dunder method is \"__init__\"it is used to initialize the variables"
   ]
  },
  {
   "cell_type": "markdown",
   "metadata": {},
   "source": [
    "Q6. Explain the concept of inheritance in OOP"
   ]
  },
  {
   "cell_type": "markdown",
   "metadata": {},
   "source": [
    "Inheritance is when a class is derived from another class the derived class is called child class and the one which it is derived from is called parent class "
   ]
  },
  {
   "cell_type": "markdown",
   "metadata": {},
   "source": [
    "Q7. What is polymorphism in OOP"
   ]
  },
  {
   "cell_type": "markdown",
   "metadata": {},
   "source": [
    "Polymorphism as the name itself suggests many forms which means that when the object can take many forms it is mainly done by using method overriding and method overloading"
   ]
  },
  {
   "cell_type": "markdown",
   "metadata": {},
   "source": [
    "Q8. How is encapsulation achieved in Python"
   ]
  },
  {
   "cell_type": "markdown",
   "metadata": {},
   "source": [
    "Encapsulation means bundling the attributes and metods so that misshappenings do not take place and to protect data misuse it is achieved by using access modifiers like public,private,protected"
   ]
  },
  {
   "cell_type": "markdown",
   "metadata": {},
   "source": [
    "Q9. What is a constructor in Python"
   ]
  },
  {
   "cell_type": "markdown",
   "metadata": {},
   "source": [
    "A constructor in python is a dunder method defined as \"__init\"\" it is used to initialize the variable (attributes) it is automatically called when an object of a class is created."
   ]
  },
  {
   "cell_type": "markdown",
   "metadata": {},
   "source": [
    "Q10. What are class and static methods in Python"
   ]
  },
  {
   "cell_type": "markdown",
   "metadata": {},
   "source": [
    "Class methods in python defined in the class it does not depend on instance of the class but the class itself it is defined using @classmethod \n",
    "they depend on instance of the class and are defined using @staticmethod"
   ]
  },
  {
   "cell_type": "markdown",
   "metadata": {},
   "source": [
    "Q11. What is method overloading in Python"
   ]
  },
  {
   "cell_type": "markdown",
   "metadata": {},
   "source": [
    "method overloading means that when we have some arguments defined with some functions and if will execute the function depending on the inpur attributes "
   ]
  },
  {
   "cell_type": "markdown",
   "metadata": {},
   "source": [
    "Q12. What is method overriding in OOP"
   ]
  },
  {
   "cell_type": "markdown",
   "metadata": {},
   "source": [
    "Method overriding means when we have defined a method in a class and we create a inherit class using the first class and we define the same method of first class in second class now the function of inherited class will override the function of parent class"
   ]
  },
  {
   "cell_type": "markdown",
   "metadata": {},
   "source": [
    "Q13. What is a property decorator in Python"
   ]
  },
  {
   "cell_type": "markdown",
   "metadata": {},
   "source": [
    "The property decorator in python is used to define properties in a class properties allow us to define methods that can be accessed like attributes"
   ]
  },
  {
   "cell_type": "markdown",
   "metadata": {},
   "source": [
    "Q14. Why is polymorphism important in OOP"
   ]
  },
  {
   "cell_type": "markdown",
   "metadata": {},
   "source": [
    "Polymorphism is important as it simplifies code make it reusable and also it allows encapsulation and abstraction"
   ]
  },
  {
   "cell_type": "markdown",
   "metadata": {},
   "source": [
    "Q15. What is an abstract class in Python"
   ]
  },
  {
   "cell_type": "markdown",
   "metadata": {},
   "source": [
    "an abstract class is used to define common interface its methods are not implemented but the subclasses of abstract class implement these methods"
   ]
  },
  {
   "cell_type": "markdown",
   "metadata": {},
   "source": [
    "Q16. What are the advantages of OOP"
   ]
  },
  {
   "cell_type": "markdown",
   "metadata": {},
   "source": [
    "OOPs have many advantages it has classes which make it reusable it has inheritance which removes the hassle if we want to create some code related to already written block it has scalabality we can adding new classes without changing the existing code"
   ]
  },
  {
   "cell_type": "markdown",
   "metadata": {},
   "source": [
    "Q17. What is the difference between a class variable and an instance variable "
   ]
  },
  {
   "cell_type": "markdown",
   "metadata": {},
   "source": [
    "class variable can be shared among all instances of a class they are defined in the class but outside of instance methods\n",
    "instance variable are only for each instance they are defined with instance methods "
   ]
  },
  {
   "cell_type": "markdown",
   "metadata": {},
   "source": [
    "Q18. What is multiple inheritance in Python"
   ]
  },
  {
   "cell_type": "markdown",
   "metadata": {},
   "source": [
    "multiple inheritance is when we derive a class form multiple parent classes which means that the child class will have attributes or methods of both the parents "
   ]
  },
  {
   "cell_type": "markdown",
   "metadata": {},
   "source": [
    "Q19. Explain the purpose of ‘’__str__’ and ‘__repr__’ ‘ methods in Python"
   ]
  },
  {
   "cell_type": "markdown",
   "metadata": {},
   "source": [
    "these are dunder methods the \"__str__\" method used to define the informal and readable string representation of the object and the \"__repr__\" is used to define formal string representation of an object"
   ]
  },
  {
   "cell_type": "markdown",
   "metadata": {},
   "source": [
    "Q20. What is the significance of the ‘super()’ function in Python"
   ]
  },
  {
   "cell_type": "markdown",
   "metadata": {},
   "source": [
    "it is mailny used in context of inheritance they are used to add more attributes to the child class once it is derived form parent class"
   ]
  },
  {
   "cell_type": "markdown",
   "metadata": {},
   "source": [
    "Q21. What is the significance of the __del__ method in Python"
   ]
  },
  {
   "cell_type": "markdown",
   "metadata": {},
   "source": [
    "__del__ it is called the destructor method it is used to delete the objects and clear the resources it is also called garbage collector"
   ]
  },
  {
   "cell_type": "markdown",
   "metadata": {},
   "source": [
    "Q22. What is the difference between @staticmethod and @classmethod in Python"
   ]
  },
  {
   "cell_type": "markdown",
   "metadata": {},
   "source": [
    "Class methods in python defined in the class it does not depend on instance of the class but the class itself it is defined using @classmethod \n",
    "they depend on instance of the class and are defined using @staticmethod"
   ]
  },
  {
   "cell_type": "markdown",
   "metadata": {},
   "source": [
    "Q23. How does polymorphism work in Python with inheritance"
   ]
  },
  {
   "cell_type": "markdown",
   "metadata": {},
   "source": [
    "when we inherit a class from a parent class and we also define the same method that is in parent class in child class too then the objects we create form these classes will take different forms hence polymorphism"
   ]
  },
  {
   "cell_type": "markdown",
   "metadata": {},
   "source": [
    "Q24. What is method chaining in Python OOP"
   ]
  },
  {
   "cell_type": "markdown",
   "metadata": {},
   "source": [
    "method chaining is when we call many objects of the class in one line or in one go "
   ]
  },
  {
   "cell_type": "markdown",
   "metadata": {},
   "source": [
    "Q25. What is the purpose of the __call__ method in Python?"
   ]
  },
  {
   "cell_type": "markdown",
   "metadata": {},
   "source": [
    "__call__ method in python is used when we create objects that we need to behave like functions"
   ]
  },
  {
   "cell_type": "markdown",
   "metadata": {},
   "source": []
  },
  {
   "cell_type": "markdown",
   "metadata": {},
   "source": [
    "                                        PRACTICAL QUESTIONS"
   ]
  },
  {
   "cell_type": "markdown",
   "metadata": {},
   "source": []
  },
  {
   "cell_type": "markdown",
   "metadata": {},
   "source": [
    "Q1. . Create a parent class Animal with a method speak() that prints a generic message. Create a child class Dog\n",
    "that overrides the speak() method to print \"Bark!\"."
   ]
  },
  {
   "cell_type": "code",
   "execution_count": 6,
   "metadata": {},
   "outputs": [
    {
     "name": "stdout",
     "output_type": "stream",
     "text": [
      "Bark!\n"
     ]
    }
   ],
   "source": [
    "class Animal:\n",
    "    def speak(self):\n",
    "        print(\"animal speaking\")\n",
    "\n",
    "class Dog(Animal):\n",
    "    def speak(self):\n",
    "        print(\"Bark!\")\n",
    "\n",
    "c = Dog()\n",
    "c.speak()\n",
    "\n"
   ]
  },
  {
   "cell_type": "markdown",
   "metadata": {},
   "source": [
    "Q2. Write a program to create an abstract class Shape with a method area(). Derive classes Circle and Rectangle\n",
    "from it and implement the area() method in both."
   ]
  },
  {
   "cell_type": "code",
   "execution_count": 55,
   "metadata": {},
   "outputs": [
    {
     "name": "stdout",
     "output_type": "stream",
     "text": [
      "area of rectangle is  30\n"
     ]
    }
   ],
   "source": [
    "import abc\n",
    "class Shape():\n",
    "    @abc.abstractmethod\n",
    "    def area(self):\n",
    "        pass\n",
    "class Circle(Shape):\n",
    "    def __init__(self,radius):\n",
    "        self.radius = radius\n",
    "    def area(self):\n",
    "        return (\"area of circle is\" , 3.14*(self.radius**2))\n",
    "class Rectangle(Shape):\n",
    "    def __init__(self , len ,breadth):\n",
    "        self.len = len\n",
    "        self.breadth = breadth\n",
    "    def area(self):\n",
    "        print(\"area of rectangle is \", self.len*self.breadth)\n",
    "c = Circle(5)\n",
    "c.area()\n",
    "r = Rectangle(5,6)\n",
    "r.area()\n",
    "\n"
   ]
  },
  {
   "cell_type": "markdown",
   "metadata": {},
   "source": [
    "Q3.  Implement a multi-level inheritance scenario where a class Vehicle has an attribute type. Derive a class  Car and further derive a class ElectricCar that adds a battery attribute.\n",
    "\n"
   ]
  },
  {
   "cell_type": "code",
   "execution_count": 20,
   "metadata": {},
   "outputs": [
    {
     "name": "stdout",
     "output_type": "stream",
     "text": [
      "car type is sedan\n"
     ]
    }
   ],
   "source": [
    "class Vehicle :\n",
    "    def vehicle_type(self):\n",
    "        print(\"car type is sedan\")\n",
    "class Car(Vehicle):\n",
    "    def hp(self):\n",
    "        print(\"400\")\n",
    "class ElectricCar(Car):\n",
    "    def battery(self):\n",
    "        print(\"50Kwh\")\n",
    "e = ElectricCar()\n",
    "e.vehicle_type()"
   ]
  },
  {
   "cell_type": "markdown",
   "metadata": {},
   "source": [
    "Q4. Question number 3 and 4 are same in question paper"
   ]
  },
  {
   "cell_type": "markdown",
   "metadata": {},
   "source": [
    "Q5. Write a program to demonstrate encapsulation by creating a class BankAccount with private attributes\n",
    "balance and methods to deposit, withdraw, and check balance."
   ]
  },
  {
   "cell_type": "code",
   "execution_count": 108,
   "metadata": {},
   "outputs": [
    {
     "name": "stdout",
     "output_type": "stream",
     "text": [
      "You Deposited: 400\n",
      "you have withdrawn 200\n"
     ]
    },
    {
     "data": {
      "text/plain": [
       "'your bank balance is 200'"
      ]
     },
     "execution_count": 108,
     "metadata": {},
     "output_type": "execute_result"
    }
   ],
   "source": [
    "class BankAccount():\n",
    "    def __init__(self,balance = 0):\n",
    "        self.__balance = balance\n",
    "\n",
    "    def deposit(self , amount):\n",
    "        if amount > 0:\n",
    "            self.__balance += amount\n",
    "            print(f\"You Deposited: {amount}\")\n",
    "        else:\n",
    "            print(\"depoit amount must be non negative\")\n",
    "\n",
    "    def withdraw(self, amount):\n",
    "        if self.__balance>amount>0:\n",
    "            self.__balance -= amount\n",
    "            print(f\"you have withdrawn {amount}\")\n",
    "        else:\n",
    "            print(\"enter a amount greater than 0 and less than balance\")\n",
    "\n",
    "    def check_balance(self):\n",
    "        return f\"your bank balance is {self.__balance}\"\n",
    "x = BankAccount()\n",
    "x.deposit(400)\n",
    "x.withdraw(200)\n",
    "x.check_balance()"
   ]
  },
  {
   "cell_type": "markdown",
   "metadata": {},
   "source": [
    "Q6. Demonstrate runtime polymorphism using a method play() in a base class Instrument. Derive classes Guitar\n",
    "and Piano that implement their own version of play()."
   ]
  },
  {
   "cell_type": "code",
   "execution_count": null,
   "metadata": {},
   "outputs": [
    {
     "name": "stdout",
     "output_type": "stream",
     "text": [
      "Playing the guitar\n",
      "Playing the piano\n"
     ]
    }
   ],
   "source": [
    "class Instrument:\n",
    "    def play(self):\n",
    "        raise NotImplementedError(\"Subclass must implement abstract method\")\n",
    "\n",
    "class Guitar(Instrument):\n",
    "    def play(self):\n",
    "        print(\"Playing the guitar\")\n",
    "\n",
    "class Piano(Instrument):\n",
    "    def play(self):\n",
    "        print(\"Playing the piano\")\n",
    "\n",
    "def play_instrument(instrument):\n",
    "    instrument.play()\n",
    "\n",
    "guitar = Guitar()\n",
    "play_instrument(guitar) "
   ]
  },
  {
   "cell_type": "markdown",
   "metadata": {},
   "source": [
    "Q7. Create a class MathOperations with a class method add_numbers() to add two numbers and a static\n",
    "method subtract_numbers() to subtract two numbers."
   ]
  },
  {
   "cell_type": "code",
   "execution_count": null,
   "metadata": {},
   "outputs": [],
   "source": [
    "class MathOperations:\n",
    "    @classmethod\n",
    "    def add_numbers(cls, a, b):\n",
    "        return a + b\n",
    "\n",
    "    @staticmethod\n",
    "    def subtract_numbers(a, b):\n",
    "        return a - b\n",
    "sum_result = MathOperations.add_numbers(10, 5)\n",
    "print(f\"Sum: {sum_result}\")\n",
    "\n",
    "difference_result = MathOperations.subtract_numbers(10, 5)\n",
    "print(f\"Difference: {difference_result}\")\n"
   ]
  },
  {
   "cell_type": "markdown",
   "metadata": {},
   "source": [
    "Q8. Implement a class Person with a class method to count the total number of persons created."
   ]
  },
  {
   "cell_type": "code",
   "execution_count": 99,
   "metadata": {},
   "outputs": [
    {
     "name": "stdout",
     "output_type": "stream",
     "text": [
      "Total number of persons created: 3\n"
     ]
    }
   ],
   "source": [
    "class Person:\n",
    "    count = 0\n",
    "\n",
    "    def __init__(self, name):\n",
    "        self.name = name\n",
    "        Person.count += 1\n",
    "\n",
    "    @classmethod\n",
    "    def get_person_count(cls):\n",
    "        return cls.count\n",
    "person1 = Person(\"ram\")\n",
    "person2 = Person(\"shyam\")\n",
    "person3 = Person(\"naman\")\n",
    "\n",
    "print(f\"Total number of persons created: {Person.get_person_count()}\")"
   ]
  },
  {
   "cell_type": "markdown",
   "metadata": {},
   "source": [
    "Q9. Write a class Fraction with attributes numerator and denominator. Override the str method to display the fraction as \"numerator/denominator\"."
   ]
  },
  {
   "cell_type": "code",
   "execution_count": 58,
   "metadata": {},
   "outputs": [
    {
     "name": "stdout",
     "output_type": "stream",
     "text": [
      "3/5\n"
     ]
    }
   ],
   "source": [
    "class Fraction:\n",
    "    def __init__(self, numerator, denominator):\n",
    "        self.numerator = numerator\n",
    "        self.denominator = denominator\n",
    "\n",
    "    def __str__(self):\n",
    "        return f\"{self.numerator}/{self.denominator}\"\n",
    "fract = Fraction(3 ,5)\n",
    "print(fract)"
   ]
  },
  {
   "cell_type": "markdown",
   "metadata": {},
   "source": [
    "Q10. Demonstrate operator overloading by creating a class Vector and overriding the add method to add two\n",
    "vectors. "
   ]
  },
  {
   "cell_type": "code",
   "execution_count": null,
   "metadata": {},
   "outputs": [],
   "source": []
  },
  {
   "cell_type": "markdown",
   "metadata": {},
   "source": [
    "Q11. . Create a class Person with attributes name and age. Add a method greet() that prints \"Hello, my name is\n",
    "{name} and I am {age} years old.\""
   ]
  },
  {
   "cell_type": "code",
   "execution_count": 59,
   "metadata": {},
   "outputs": [
    {
     "name": "stdout",
     "output_type": "stream",
     "text": [
      "Hello,my name is ram and I am  20 years old\n"
     ]
    }
   ],
   "source": [
    "class Person():\n",
    "    def __init__(self ,name,age):\n",
    "        self.name = name\n",
    "        self.age = age\n",
    "    def greet(self):\n",
    "        print(f\"Hello,my name is {self.name} and I am  {self.age} years old\")\n",
    "p = Person(\"ram\",20)\n",
    "p.greet()"
   ]
  },
  {
   "cell_type": "markdown",
   "metadata": {},
   "source": [
    "Q12. Implement a class Student with attributes name and grades. Create a method average_grade() to compute\n",
    "the average of the grades."
   ]
  },
  {
   "cell_type": "code",
   "execution_count": 62,
   "metadata": {},
   "outputs": [
    {
     "data": {
      "text/plain": [
       "'ram has an average of 5.0 marks'"
      ]
     },
     "execution_count": 62,
     "metadata": {},
     "output_type": "execute_result"
    }
   ],
   "source": [
    "class Student:\n",
    "    def __init__(self,name, grades):\n",
    "        self.name = name\n",
    "        self.grades = grades\n",
    "    def avg(self):\n",
    "        total = 0\n",
    "        for i in self.grades :\n",
    "            total += i\n",
    "        av = total/ len(self.grades)\n",
    "        return f\"{self.name} has an average of {av} marks\"\n",
    "s = Student(\"ram\",[4,7,6,3,9,1])\n",
    "s.avg()\n",
    "\n"
   ]
  },
  {
   "cell_type": "markdown",
   "metadata": {},
   "source": [
    "Q13. Create a class Rectangle with methods set_dimensions() to set the dimensions and area() to calculate the\n",
    "area"
   ]
  },
  {
   "cell_type": "code",
   "execution_count": null,
   "metadata": {},
   "outputs": [
    {
     "data": {
      "text/plain": [
       "'Area of this rectangle will be 15'"
      ]
     },
     "execution_count": 78,
     "metadata": {},
     "output_type": "execute_result"
    }
   ],
   "source": [
    "class Rectangle():\n",
    "    # def __init__(self):\n",
    "        # self.len = 0\n",
    "        # self.breadth = 0\n",
    "    '''  \n",
    "    actually i don't know if i should use the init method or not as\n",
    "    the code seems to run fine with or without it so can you please\n",
    "    answer that in remarks\n",
    "    '''\n",
    "\n",
    "    def set_dimensions(self,len,breadth):\n",
    "        self.len = len\n",
    "        self.breadth = breadth\n",
    "\n",
    "    def area(self):\n",
    "        ar = self.len*self.breadth\n",
    "        return f\"Area of this rectangle will be {ar}\"\n",
    "r = Rectangle()\n",
    "r.set_dimensions(3,5)\n",
    "r.area()"
   ]
  },
  {
   "cell_type": "markdown",
   "metadata": {},
   "source": [
    "Q14. Create a class Employee with a method calculate_salary() that computes the salary based on hours worked\n",
    "and hourly rate. Create a derived class Manager that adds a bonus to the salary."
   ]
  },
  {
   "cell_type": "code",
   "execution_count": 98,
   "metadata": {},
   "outputs": [
    {
     "data": {
      "text/plain": [
       "'salary of this worker is 3300'"
      ]
     },
     "execution_count": 98,
     "metadata": {},
     "output_type": "execute_result"
    }
   ],
   "source": [
    "class Employee():\n",
    "    def __init__(self,hours, per_hour):\n",
    "        self.hours = hours\n",
    "        self.per_hour = per_hour\n",
    "    def salary(self):\n",
    "        sal  = self.hours*self.per_hour\n",
    "        return f\"salary of this worker is {sal}\"\n",
    "class Manager(Employee):\n",
    "    def __init__(self,hours,per_hour,bonus):\n",
    "        super().__init__(hours,per_hour)\n",
    "        self.bonus = bonus\n",
    "    def total(self):\n",
    "        total_sal = (self.hours*self.per_hour)+ self.bonus\n",
    "        return f\"salary of this worker is {total_sal}\"\n",
    "m = Manager(8,100,2500)\n",
    "m.total()\n"
   ]
  },
  {
   "cell_type": "markdown",
   "metadata": {},
   "source": [
    "Q15. Create a class Product with attributes name, price, and quantity. Implement a method total_price() that\n",
    "calculates the total price of the product."
   ]
  },
  {
   "cell_type": "code",
   "execution_count": 84,
   "metadata": {},
   "outputs": [
    {
     "data": {
      "text/plain": [
       "'Total price of 3 Perfume at 199/unit will be 597 '"
      ]
     },
     "execution_count": 84,
     "metadata": {},
     "output_type": "execute_result"
    }
   ],
   "source": [
    "class Product():\n",
    "    def __init__(self , name,price,quantity):\n",
    "        self.name = name\n",
    "        self.price = price\n",
    "        self.quantity = quantity\n",
    "\n",
    "    def total(self):\n",
    "        tot = self.price*self.quantity\n",
    "        return f\"Total price of {self.quantity} {self.name} at {self.price}/unit will be {tot} \"\n",
    "t = Product(\"Perfume\", 199 , 3)\n",
    "t.total()"
   ]
  },
  {
   "cell_type": "markdown",
   "metadata": {},
   "source": [
    "Q16. Create a class Animal with an abstract method sound(). Create two derived classes Cow and Sheep that\n",
    "implement the sound() method."
   ]
  },
  {
   "cell_type": "code",
   "execution_count": 87,
   "metadata": {},
   "outputs": [
    {
     "name": "stdout",
     "output_type": "stream",
     "text": [
      "this is cow sound\n",
      "this is sheep sound\n"
     ]
    }
   ],
   "source": [
    "import abc\n",
    "class Animal():\n",
    "    @abc.abstractmethod\n",
    "    def sound(self):\n",
    "        pass \n",
    "\n",
    "class Cow(Animal):\n",
    "    def sound(self):\n",
    "        print(\"this is cow sound\")\n",
    "\n",
    "class Sheep(Animal):\n",
    "    def sound(self):\n",
    "        print(\"this is sheep sound\")\n",
    "\n",
    "c = Cow()\n",
    "c.sound()\n",
    "s = Sheep()\n",
    "s.sound()"
   ]
  },
  {
   "cell_type": "markdown",
   "metadata": {},
   "source": [
    "Q17. Create a class Book with attributes title, author, and year_published. Add a method get_book_info() that returns a formatted string with the book's details."
   ]
  },
  {
   "cell_type": "code",
   "execution_count": 96,
   "metadata": {},
   "outputs": [
    {
     "data": {
      "text/plain": [
       "\"'Trading in the zone' by Mark Douglas, published in 1234\""
      ]
     },
     "execution_count": 96,
     "metadata": {},
     "output_type": "execute_result"
    }
   ],
   "source": [
    "class Book:\n",
    "    def __init__(self, title, author, year_published):\n",
    "        self.title = title\n",
    "        self.author = author\n",
    "        self.year_published = year_published\n",
    "\n",
    "    def get_book_info(self):\n",
    "        return f\"'{self.title}' by {self.author}, published in {self.year_published}\"\n",
    "b = Book(\"Trading in the zone\", \"Mark Douglas\" , 1234)\n",
    "b.get_book_info()"
   ]
  },
  {
   "cell_type": "markdown",
   "metadata": {},
   "source": [
    "Q18. Create a class House with attributes address and price. Create a derived class Mansion that adds an\n",
    "attribute number_of_rooms."
   ]
  },
  {
   "cell_type": "code",
   "execution_count": 93,
   "metadata": {},
   "outputs": [
    {
     "name": "stdout",
     "output_type": "stream",
     "text": [
      "the property is at xyz 123 apt costing 2.4 Million and has 34 rooms\n"
     ]
    }
   ],
   "source": [
    "class House():\n",
    "    def __init__(self,address,price):\n",
    "        self.address = address\n",
    "        self.price = price\n",
    "    def info(self):\n",
    "        print(f\"the property is at {self.address} costing {self.price}\")\n",
    "class Mansion(House):\n",
    "    def __init__(self,address,price,number_of_rooms):\n",
    "        super().__init__(address,price)\n",
    "        self.number_of_rooms = number_of_rooms\n",
    "    def info(self):\n",
    "        print(f\"the property is at {self.address} costing {self.price} and has {self.number_of_rooms} rooms\")\n",
    "m = Mansion(\"xyz 123 apt\",\"2.4 Million\",34)\n",
    "m.info()\n"
   ]
  }
 ],
 "metadata": {
  "kernelspec": {
   "display_name": "Python 3",
   "language": "python",
   "name": "python3"
  },
  "language_info": {
   "codemirror_mode": {
    "name": "ipython",
    "version": 3
   },
   "file_extension": ".py",
   "mimetype": "text/x-python",
   "name": "python",
   "nbconvert_exporter": "python",
   "pygments_lexer": "ipython3",
   "version": "3.13.1"
  }
 },
 "nbformat": 4,
 "nbformat_minor": 2
}
