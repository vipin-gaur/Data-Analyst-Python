{
 "cells": [
  {
   "cell_type": "markdown",
   "metadata": {},
   "source": [
    "                                       THEORITICAL QUESTIONS"
   ]
  },
  {
   "cell_type": "markdown",
   "metadata": {},
   "source": [
    "Q1. What is the difference between interpreted and compiled languages ?"
   ]
  },
  {
   "cell_type": "markdown",
   "metadata": {},
   "source": [
    "A1. A Interpreted language is one which is translated line by line to a machine readable code and a compiled language is one which is compiled once at start with a compiler andthen can be executed"
   ]
  },
  {
   "cell_type": "markdown",
   "metadata": {},
   "source": [
    "Q2. What is exception handling in Python ?"
   ]
  },
  {
   "cell_type": "markdown",
   "metadata": {},
   "source": [
    "A2. When we run programs it is very common that error(exceptions) appears and to counter those errors we use exception handling"
   ]
  },
  {
   "cell_type": "markdown",
   "metadata": {},
   "source": [
    "Q3.What is the purpose of the finally block in exception handling ?"
   ]
  },
  {
   "cell_type": "markdown",
   "metadata": {},
   "source": [
    "A3. finally block is the block of code that will be executed either error occurs or not it can be used to return a function or close a file after opening it in try block "
   ]
  },
  {
   "cell_type": "markdown",
   "metadata": {},
   "source": [
    "Q4. What is logging in Python ?"
   ]
  },
  {
   "cell_type": "markdown",
   "metadata": {},
   "source": [
    "A4. logging is the process of writing the errors,warnings,etc to a log file i.e whenever an error occurs it can be written to a  log file this process is called logging"
   ]
  },
  {
   "cell_type": "markdown",
   "metadata": {},
   "source": [
    "Q5. What is the significance of the __del__ method in Python ?"
   ]
  },
  {
   "cell_type": "markdown",
   "metadata": {},
   "source": [
    "A5. The __del__ method in Python is a special method known as destructor it is called when an object is about to be destroyed, which happens when its reference count hits zero, meaning there are no more references to that object."
   ]
  },
  {
   "cell_type": "markdown",
   "metadata": {},
   "source": [
    "Q6. What is the difference between import and from ... import in Python ?"
   ]
  },
  {
   "cell_type": "markdown",
   "metadata": {},
   "source": [
    "A6. we use \"import\" to import a module in python and we use \"from.... import... \" to import a specific module form a specific library for eg: import os , from os.path import dirname "
   ]
  },
  {
   "cell_type": "markdown",
   "metadata": {},
   "source": [
    "Q7. How can you handle multiple exceptions in Python ?"
   ]
  },
  {
   "cell_type": "markdown",
   "metadata": {},
   "source": [
    "A7. we can simply handle multiple exceptions by using the multiple except blocks for different exceptions "
   ]
  },
  {
   "cell_type": "markdown",
   "metadata": {},
   "source": [
    "Q8. What is the purpose of the with statement when handling files in Python ?"
   ]
  },
  {
   "cell_type": "markdown",
   "metadata": {},
   "source": [
    "A8. The main purpose of with statement is that it automatically closes the file and prints the result to file "
   ]
  },
  {
   "cell_type": "markdown",
   "metadata": {},
   "source": [
    "Q9. What is the difference between multithreading and multiprocessing ?"
   ]
  },
  {
   "cell_type": "markdown",
   "metadata": {},
   "source": [
    "A9. In Multithreading the program runs concurrently on different threads and in multiprocessing the program runs parallely on different processor cores "
   ]
  },
  {
   "cell_type": "markdown",
   "metadata": {},
   "source": [
    "Q10. What are the advantages of using logging in a program ?"
   ]
  },
  {
   "cell_type": "markdown",
   "metadata": {},
   "source": [
    "A10. logging is very useful as it logs all the errors in one place and also shows the severity of the error and allows us to debug it efficiently"
   ]
  },
  {
   "cell_type": "markdown",
   "metadata": {},
   "source": [
    "Q11. what is memory management in Python ?"
   ]
  },
  {
   "cell_type": "markdown",
   "metadata": {},
   "source": [
    "A11. memory management in python includes allocation ,deallocation of memory during the execution of a pragram and python has an automatic memory manegement system that handles all these tasks itself "
   ]
  },
  {
   "cell_type": "markdown",
   "metadata": {},
   "source": [
    "Q12. What are the basic steps involved in exception handling in Python ?"
   ]
  },
  {
   "cell_type": "markdown",
   "metadata": {},
   "source": [
    "A12. First step is to identify the suspected block of code then second is to put it in the try block or try except block and then write the exception in the exception block and then the finally block if needed."
   ]
  },
  {
   "cell_type": "markdown",
   "metadata": {},
   "source": [
    "Q13. Why is memory management important in Python ?"
   ]
  },
  {
   "cell_type": "markdown",
   "metadata": {},
   "source": [
    "A13. Memory management is important as one it prevents wastage of memory and makes the best use of available memory and it improves the performance "
   ]
  },
  {
   "cell_type": "markdown",
   "metadata": {},
   "source": [
    "Q14. What is the role of try and except in exception handling ?"
   ]
  },
  {
   "cell_type": "markdown",
   "metadata": {},
   "source": [
    "A14. The use of try and except in exception handling is that try block contains the suspected block of code and except block contains the error that can be occured and print it or log it."
   ]
  },
  {
   "cell_type": "markdown",
   "metadata": {},
   "source": [
    "Q15. How does Python's garbage collection system work ?"
   ]
  },
  {
   "cell_type": "markdown",
   "metadata": {},
   "source": [
    "A15. It deletes the objects and reallocates the memory when there is no longer use of that memory it works on two methods primarily first is refrence allocation in which it deallocates the memory when there is no refrence point to an object another is cyclic in which when a varialbe is pointing to another making a cycle it reallocates it automatically "
   ]
  },
  {
   "cell_type": "markdown",
   "metadata": {},
   "source": [
    "Q16. What is the purpose of the else block in exception handling ?"
   ]
  },
  {
   "cell_type": "markdown",
   "metadata": {},
   "source": [
    "A16. In exceptional handling else block is executed when there is no exception occurs and the except block is not executed."
   ]
  },
  {
   "cell_type": "markdown",
   "metadata": {},
   "source": [
    "Q17. What are the common logging levels in Python ?"
   ]
  },
  {
   "cell_type": "markdown",
   "metadata": {},
   "source": [
    "A17. The logging levels in python in ascending order of severity are : DEBUG,INFO,WARNING,ERROR,CRITICAL"
   ]
  },
  {
   "cell_type": "markdown",
   "metadata": {},
   "source": [
    "Q18. What is the difference between os.fork() and multiprocessing in Python ?"
   ]
  },
  {
   "cell_type": "markdown",
   "metadata": {},
   "source": [
    "A18. os.fork() actually duplicates the process and creates a child process whereas in multiprocessing same process is being run on different cores parallely"
   ]
  },
  {
   "cell_type": "markdown",
   "metadata": {},
   "source": [
    "Q19. What is the importance of closing a file in Python ?"
   ]
  },
  {
   "cell_type": "markdown",
   "metadata": {},
   "source": [
    "A19. Closing a file in python is not only important but a necessary step as if a file is not closed we can not see any changes in the file. alternative of closing the file everytime is that we use the \"with\" statement which automatically closes the file."
   ]
  },
  {
   "cell_type": "markdown",
   "metadata": {},
   "source": [
    "Q20.  What is the difference between file.read() and file.readline() in Python ?"
   ]
  },
  {
   "cell_type": "markdown",
   "metadata": {},
   "source": [
    "A20. the \"file.read()\" reads the whole file from starting to ending and \"file.readline()\" only reads the file line by line "
   ]
  },
  {
   "cell_type": "markdown",
   "metadata": {},
   "source": [
    "Q21. What is the logging module in Python used for ?"
   ]
  },
  {
   "cell_type": "markdown",
   "metadata": {},
   "source": [
    "A21. logging module is used to log the errors in the log file without it we can not log anything. "
   ]
  },
  {
   "cell_type": "markdown",
   "metadata": {},
   "source": [
    "Q22. What is the os module in Python used for in file handling ?"
   ]
  },
  {
   "cell_type": "markdown",
   "metadata": {},
   "source": [
    "A22. The OS module is used to get access to the commands for operating system like path , directory ,etc"
   ]
  },
  {
   "cell_type": "markdown",
   "metadata": {},
   "source": [
    "Q23. What are the challenges associated with memory management in Python ?"
   ]
  },
  {
   "cell_type": "markdown",
   "metadata": {},
   "source": [
    "A23. Memory management prresents many challenges like memory leak,cyclic refrence,high memory usage,managing shared resources while there is built in memory management system in python but we have to be aware of these while programming"
   ]
  },
  {
   "cell_type": "markdown",
   "metadata": {},
   "source": [
    "Q24. How do you raise an exception manually in Python ?"
   ]
  },
  {
   "cell_type": "markdown",
   "metadata": {},
   "source": [
    "A24. we can raise an exception manually in python using the raise keyword like: raise IndexError "
   ]
  },
  {
   "cell_type": "markdown",
   "metadata": {},
   "source": [
    "Q25. Why is it important to use multithreading in certain applications?"
   ]
  },
  {
   "cell_type": "markdown",
   "metadata": {},
   "source": [
    "A25. Multithreading is very crucial if we want to reduce the runtime of a program it is generally used for I/O operations like downloading."
   ]
  },
  {
   "cell_type": "markdown",
   "metadata": {},
   "source": [
    "\n"
   ]
  },
  {
   "cell_type": "markdown",
   "metadata": {},
   "source": [
    "                                          PRACTICAL QUESTIONS                                           "
   ]
  },
  {
   "cell_type": "markdown",
   "metadata": {},
   "source": []
  },
  {
   "cell_type": "markdown",
   "metadata": {},
   "source": [
    "Q1. How can you open a file for writing in Python and write a string to it ?"
   ]
  },
  {
   "cell_type": "code",
   "execution_count": 1,
   "metadata": {},
   "outputs": [],
   "source": [
    "with open(\"test1.txt\", \"w\") as file :\n",
    "    file.write(\"first line\\n\")\n",
    "    file.write(\"second line\")"
   ]
  },
  {
   "cell_type": "markdown",
   "metadata": {},
   "source": [
    " Q2. Write a Python program to read the contents of a file and print each line"
   ]
  },
  {
   "cell_type": "code",
   "execution_count": null,
   "metadata": {},
   "outputs": [],
   "source": [
    "with open(\"test1.txt\", \"r\") as file:\n",
    "    for i in file :\n",
    "        print(i)"
   ]
  },
  {
   "cell_type": "markdown",
   "metadata": {},
   "source": [
    "Q3. How would you handle a case where the file doesn't exist while trying to open it for reading ?"
   ]
  },
  {
   "cell_type": "code",
   "execution_count": null,
   "metadata": {},
   "outputs": [],
   "source": [
    "with open(\"test2.txt\" ,\"r\") as file2:\n",
    "    for x in file2:\n",
    "        print(x)\n",
    "# here it throws an error that no such file:'test2.txt'\n",
    "# now we can open it in write mode doing so will create the file and open it in write mode\n",
    "with open(\"test2.txt\", \"w\") as file2:\n",
    "    print(file2)\n",
    "# now that this file has been created we can open it in read mode \n",
    "with open(\"test2.txt\", \"r\") as t:\n",
    "    print(t)\n"
   ]
  },
  {
   "cell_type": "markdown",
   "metadata": {},
   "source": [
    "Q4. Write a Python script that reads from one file and writes its content to another file?"
   ]
  },
  {
   "cell_type": "code",
   "execution_count": null,
   "metadata": {},
   "outputs": [],
   "source": [
    "with open(\"test1.txt\", \"r\") as first:\n",
    "    for x in first:\n",
    "        with open(\"test2.txt\",\"a\") as c:\n",
    "            c.write(x)\n",
    "# now opening this file in append mode will keep appending the lines form first to second\n",
    "# but if we open it in write mode it will turnicate the test2.txt file and only write once \n",
    "with open(\"test2.txt\",\"r\") as second:\n",
    "    for v in second:\n",
    "        print(v)\n"
   ]
  },
  {
   "cell_type": "markdown",
   "metadata": {},
   "source": [
    "Q5. How would you catch and handle division by zero error in Python ?"
   ]
  },
  {
   "cell_type": "code",
   "execution_count": null,
   "metadata": {},
   "outputs": [],
   "source": [
    "try :\n",
    "    a = 10/0\n",
    "except Exception as e :\n",
    "    print(\"there is an error:\" , e)\n",
    "print(\"this is executed at second position\")\n",
    "\n",
    "# or it can also be handled by specific expeption handling\n",
    "try :\n",
    "    a = 10/0\n",
    "except ZeroDivisionError as e :\n",
    "    print(\"There is zero division error:\" ,e)"
   ]
  },
  {
   "cell_type": "markdown",
   "metadata": {},
   "source": [
    "Q6.Write a Python program that logs an error message to a log file when a division by zero exception occurs"
   ]
  },
  {
   "cell_type": "code",
   "execution_count": 6,
   "metadata": {},
   "outputs": [],
   "source": [
    "import logging\n",
    "logging.basicConfig(filename = \"zeroerror.log\", level = logging.DEBUG, format = \"%(asctime)s %(levelname)s %(message)s\")\n",
    "try :\n",
    "    a = 10/0\n",
    "    print(a)\n",
    "except ZeroDivisionError as e :\n",
    "    logging.error(e)\n",
    "finally:\n",
    "    logging.shutdown()"
   ]
  },
  {
   "cell_type": "markdown",
   "metadata": {},
   "source": [
    "Q7. How do you log information at different levels (INFO, ERROR, WARNING) in Python using the logging module?"
   ]
  },
  {
   "cell_type": "code",
   "execution_count": 7,
   "metadata": {},
   "outputs": [],
   "source": [
    "import logging\n",
    "logging.basicConfig(filename = \"defferentlogs.log\", level = logging.DEBUG, format = \"%(levelname)s %(message)s\")\n",
    "logging.info(\"this is the information i want to display\")\n",
    "logging.error(\"this is the error i want to display\")\n",
    "logging.warning(\"this is the warning i want to display\")"
   ]
  },
  {
   "cell_type": "markdown",
   "metadata": {},
   "source": [
    "Q8. Write a program to handle a file opening error using exception handling"
   ]
  },
  {
   "cell_type": "code",
   "execution_count": null,
   "metadata": {},
   "outputs": [],
   "source": [
    "\n",
    "# f = open(\"test3.txt\",\"r\")\n",
    "# if we try to open this file it will show file not found error and we can handle it like this\n",
    "try:\n",
    "    f = open(\"test3.txt\",\"r\")\n",
    "except Exception as e :\n",
    "    print(\"there is an error :\" ,e)\n",
    "finally :\n",
    "    print(\"this will be printed no matter if error is there or not\")"
   ]
  },
  {
   "cell_type": "markdown",
   "metadata": {},
   "source": [
    "Q9. How can you read a file line by line and store its content in a list in Python?"
   ]
  },
  {
   "cell_type": "code",
   "execution_count": null,
   "metadata": {},
   "outputs": [],
   "source": [
    "l = []\n",
    "with open(\"test2.txt\",\"r\") as t:\n",
    "    for i in t :\n",
    "        l.append(i)\n",
    "print(l)\n",
    "        "
   ]
  },
  {
   "cell_type": "markdown",
   "metadata": {},
   "source": [
    "Q10. How can you append data to an existing file in Python?"
   ]
  },
  {
   "cell_type": "code",
   "execution_count": 10,
   "metadata": {},
   "outputs": [],
   "source": [
    "# we can open the file in append mode to append the data\n",
    "with open(\"test1.txt\",\"a\") as r:\n",
    "    r.write(\"\\nthis is the new line\")"
   ]
  },
  {
   "cell_type": "markdown",
   "metadata": {},
   "source": [
    "Q11. Write a Python program that uses a try-except block to handle an error when attempting to access a\n",
    "dictionary key that doesn't exist"
   ]
  },
  {
   "cell_type": "code",
   "execution_count": null,
   "metadata": {},
   "outputs": [],
   "source": [
    "d = {\"name\":\"vipin\",\"course\":\"DA\", \"fees\":\"20000\"}\n",
    "# d[\"duration\"] it throws the KeyError as the key \"duration\" does not exist so now \n",
    "try:\n",
    "    d[\"duration\"]\n",
    "except KeyError as e:\n",
    "    print(\"there is an error accessing duration :\", e)"
   ]
  },
  {
   "cell_type": "markdown",
   "metadata": {},
   "source": [
    "Q12. Write a program that demonstrates using multiple except blocks to handle different types of exceptions"
   ]
  },
  {
   "cell_type": "code",
   "execution_count": null,
   "metadata": {},
   "outputs": [],
   "source": [
    "t = \"ram\"\n",
    "# is we put t = 0 it will show as zero division error and if we put t = \"string\" it will throw TypeError\n",
    "try:\n",
    "    60/t\n",
    "except ZeroDivisionError as e :\n",
    "    print(\"there is an error\",e)\n",
    "except TypeError as e:\n",
    "    print(\"there is an error\", e)"
   ]
  },
  {
   "cell_type": "markdown",
   "metadata": {},
   "source": [
    "Q13. How would you check if a file exists before attempting to read it in Python?"
   ]
  },
  {
   "cell_type": "code",
   "execution_count": null,
   "metadata": {},
   "outputs": [],
   "source": [
    "import os\n",
    "if os.path.exists(\"test2.txt\"):\n",
    "    file = open(\"test2.txt\" , \"r\")\n",
    "    print(file)\n",
    "    file.close()"
   ]
  },
  {
   "cell_type": "markdown",
   "metadata": {},
   "source": [
    "Q14. Write a program that uses the logging module to log both informational and error messages."
   ]
  },
  {
   "cell_type": "code",
   "execution_count": 14,
   "metadata": {},
   "outputs": [],
   "source": [
    "import logging\n",
    "logging.basicConfig(filename = \"logging1.log\" , level = logging.INFO , format = \"%(asctime)s %(message)s %(levelname)s\")\n",
    "# this will log all the logs with priority equal and greatere than it \n",
    "logging.info(\"this is the information i want to show\")\n",
    "logging.error(\"this is the error\")"
   ]
  },
  {
   "cell_type": "markdown",
   "metadata": {},
   "source": [
    "Q15. Write a Python program that prints the content of a file and handles the case when the file is empty"
   ]
  },
  {
   "cell_type": "code",
   "execution_count": null,
   "metadata": {},
   "outputs": [],
   "source": [
    "with open(\"test3.txt\",\"r\") as t:\n",
    "    import os\n",
    "    if os.path.getsize(\"test3.txt\") == 0:\n",
    "        print(\"The file is empty\")\n",
    "    else:\n",
    "        for i in t :\n",
    "            print(i)\n",
    "\n"
   ]
  },
  {
   "cell_type": "markdown",
   "metadata": {},
   "source": [
    "Q16. Demonstrate how to use memory profiling to check the memory usage of a small program"
   ]
  },
  {
   "cell_type": "code",
   "execution_count": null,
   "metadata": {},
   "outputs": [],
   "source": []
  },
  {
   "cell_type": "markdown",
   "metadata": {},
   "source": [
    "Q17. Write a Python program to create and write a list of numbers to a file, one number per line"
   ]
  },
  {
   "cell_type": "code",
   "execution_count": 16,
   "metadata": {},
   "outputs": [],
   "source": [
    "l = [1,2,3,9,8,7,6,5,4]\n",
    "\n",
    "with open(\"test4.txt\", \"a\") as r:\n",
    "    for i in l :\n",
    "        r.write(f\"{i}\\n\")\n",
    "        "
   ]
  },
  {
   "cell_type": "markdown",
   "metadata": {},
   "source": [
    "Q18. How would you implement a basic logging setup that logs to a file with rotation after 1MB \""
   ]
  },
  {
   "cell_type": "code",
   "execution_count": 17,
   "metadata": {},
   "outputs": [],
   "source": [
    "# sorry i can't do that file rotation is not taught in classes and when i'm trying to learn form internet i can't understand "
   ]
  },
  {
   "cell_type": "markdown",
   "metadata": {},
   "source": [
    "Q19. Write a program that handles both IndexError and KeyError using a try-except block"
   ]
  },
  {
   "cell_type": "code",
   "execution_count": null,
   "metadata": {},
   "outputs": [],
   "source": [
    "l = [1,2,3,9]\n",
    "my_dict = {\"name\":\"vipin\",\"course\":\"DA\"}\n",
    "try:\n",
    "    l[4]\n",
    "except IndexError as e:\n",
    "    print(\"Index not Found\")\n",
    "try:\n",
    "    my_dict[\"fees\"]\n",
    "except KeyError as e:\n",
    "    print(\"key not found\")"
   ]
  },
  {
   "cell_type": "markdown",
   "metadata": {},
   "source": [
    "Q20. How would you open a file and read its contents using a context manager in Python ?"
   ]
  },
  {
   "cell_type": "code",
   "execution_count": null,
   "metadata": {},
   "outputs": [],
   "source": [
    "# we can open a file and read its content in context manager using the \"with\" statement\n",
    "with open(\"test2.txt\" , \"r\") as t :\n",
    "    content = t.read()\n",
    "    print(content)"
   ]
  },
  {
   "cell_type": "markdown",
   "metadata": {},
   "source": [
    "Q21. Write a Python program that reads a file and prints the number of occurrences of a specific word"
   ]
  },
  {
   "cell_type": "code",
   "execution_count": null,
   "metadata": {},
   "outputs": [],
   "source": [
    "with open(\"test2.txt\",\"r\") as t:\n",
    "    content = t.read()\n",
    "    words = content.split()\n",
    "    words_count = words.count(\"second\")\n",
    "    print(words_count)"
   ]
  },
  {
   "cell_type": "markdown",
   "metadata": {},
   "source": [
    "Q22. How can you check if a file is empty before attempting to read its contents ?"
   ]
  },
  {
   "cell_type": "code",
   "execution_count": null,
   "metadata": {},
   "outputs": [],
   "source": [
    "# We can check the file size and if it is zero it means that the file is empty \n",
    "import os\n",
    "s = os.path.getsize(\"test3.txt\")\n",
    "if s == 0 :\n",
    "    print(\"The file is empty\")\n",
    "else:\n",
    "    print(\"This file is not empty and can be read\")"
   ]
  },
  {
   "cell_type": "markdown",
   "metadata": {},
   "source": [
    "Q23. Write a Python program that writes to a log file when an error occurs during file handling"
   ]
  },
  {
   "cell_type": "code",
   "execution_count": 22,
   "metadata": {},
   "outputs": [],
   "source": [
    "import logging\n",
    "logging.basicConfig(filename = \"filehandling.log\", level = logging.DEBUG, format = \"%(asctime)s %(levelname)s %(message)s\")\n",
    "try:\n",
    "    with open(\"test5.txt\", \"r\") as a:\n",
    "        print(a)\n",
    "except FileNotFoundError as e:\n",
    "    logging.error(e)\n",
    "finally:\n",
    "    logging.shutdown()\n"
   ]
  }
 ],
 "metadata": {
  "kernelspec": {
   "display_name": "Python 3",
   "language": "python",
   "name": "python3"
  },
  "language_info": {
   "codemirror_mode": {
    "name": "ipython",
    "version": 3
   },
   "file_extension": ".py",
   "mimetype": "text/x-python",
   "name": "python",
   "nbconvert_exporter": "python",
   "pygments_lexer": "ipython3",
   "version": "3.13.1"
  }
 },
 "nbformat": 4,
 "nbformat_minor": 2
}
