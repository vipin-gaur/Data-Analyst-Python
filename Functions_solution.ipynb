{
 "cells": [
  {
   "cell_type": "markdown",
   "metadata": {},
   "source": [
    "THEORITICAL QUESTIONS"
   ]
  },
  {
   "cell_type": "markdown",
   "metadata": {},
   "source": [
    "Q1. What is the difference between a function and a method in Python?\n",
    "\n",
    "\n",
    "A1. Method has not been taught in the classes that's why i can't answer that."
   ]
  },
  {
   "cell_type": "markdown",
   "metadata": {},
   "source": [
    "Q2. Explain the concept of function arguments and parameters in Python.\n",
    "\n",
    "\n",
    "A2. Arguments or parameters are variables that are passes onto a function with which we can get the desired result according to the data. for eg. in def new_function(x) x is the variable which is called as argument or parameter"
   ]
  },
  {
   "cell_type": "markdown",
   "metadata": {},
   "source": [
    "Q3. What are the different ways to define and call a function in Python?\n",
    "\n",
    "A3. we use the \"def\" keyword to define a function and to call a function we just write the name of the function that we write after the def for eg. in def new_function() def is to define a function and when we have to call the function we just have to write new_function()"
   ]
  },
  {
   "cell_type": "markdown",
   "metadata": {},
   "source": [
    "Q4. What is the purpose of the `return` statement in a Python function?\n",
    "\n",
    "A4. retuen statement actually returns the result of the function in its original form i.e. string integer float and its other purpose is that it terminates the function."
   ]
  },
  {
   "cell_type": "markdown",
   "metadata": {},
   "source": [
    "Q5. What are iterators in Python and how do they differ from iterables?\n",
    "\n",
    "A5. iterables are the data type which can be iterated and the process of iteration is called iterable like the whole data of the iteration is called the iterator for eg a = \"truck\" here truck is an iterable and i = iter(\"a\") here i is the iterator."
   ]
  },
  {
   "cell_type": "markdown",
   "metadata": {},
   "source": [
    "Q6. Explain the concept of generators in Python and how they are defined.\n",
    "\n",
    "\n",
    "A6. generators the same as function the only difference is that a function first computes all the values and return them in one go but a generator function compute the values one by one."
   ]
  },
  {
   "cell_type": "markdown",
   "metadata": {},
   "source": [
    "Q7. What are the advantages of using generators over regular functions?\n",
    "\n",
    "A7. Primary and very huge advantage of using generator function over regular function is that a regular function computes and stores all the values in the memory in one go and takes up memory even if we don't need it but a generator computes the values one by one and is very efficient than regular functions"
   ]
  },
  {
   "cell_type": "markdown",
   "metadata": {},
   "source": [
    "Q8. What is a lambda function in Python and when is it typically used?\n",
    "\n",
    "A8. A lambda function is nothing but just short definition of a regular function and in one line only and one statement only "
   ]
  },
  {
   "cell_type": "markdown",
   "metadata": {},
   "source": [
    "Q9. Explain the purpose and usage of the `map()` function in Python.\n",
    "\n",
    "A9. The 'map()' function as its name suggests maps a function to the iterable i.e. map(function_name, iterable). here function_name is the function which we want to map and iterable is what we want to iterate"
   ]
  },
  {
   "cell_type": "markdown",
   "metadata": {},
   "source": [
    "Q10. What is the difference between `map()`, `reduce()`, and `filter()` functions in Python?\n",
    "\n",
    "A10. As their name suggests the 'map()' function maps a function to an iterable , the 'reduce()' function reduces the iterable as it takes two variables and it iterates the iterable elements in pairs, and 'filter()'\n",
    "function just checks if the condition satisfies for the iterable element or not and filters it on basis of the condition provided."
   ]
  },
  {
   "cell_type": "markdown",
   "metadata": {},
   "source": [
    "Q11. Using pen & Paper write the internal mechanism for sum operation using reduce function on this given list:[47,11,42,13];\n",
    "\n",
    "A11. THE ANSWER TO THIS HAS BEEN ATTACHED IN THE UPLOADED PDF AS DRIVE LINK."
   ]
  },
  {
   "cell_type": "markdown",
   "metadata": {},
   "source": []
  },
  {
   "cell_type": "markdown",
   "metadata": {},
   "source": [
    "                                                          PRACTICAL QUESTIONS                                                               "
   ]
  },
  {
   "cell_type": "markdown",
   "metadata": {},
   "source": []
  },
  {
   "cell_type": "markdown",
   "metadata": {},
   "source": [
    "Q1.  Write a Python function that takes a list of numbers as input and returns the sum of all even numbers in the list.\n"
   ]
  },
  {
   "cell_type": "code",
   "execution_count": null,
   "metadata": {},
   "outputs": [],
   "source": [
    "def summation(v):\n",
    "    \"\"\" This function adds all the even numbers in the given list v\"\"\"\n",
    "    result = 0\n",
    "    for item in v:\n",
    "        if item%2 == 0:\n",
    "            result = result+item\n",
    "        else :\n",
    "            pass\n",
    "    return result\n",
    "summation([1,2,5,3,3,5,6,6,6,8,9])"
   ]
  },
  {
   "cell_type": "markdown",
   "metadata": {},
   "source": [
    "Q2. Create a Python function that accepts a string and returns the reverse of that string."
   ]
  },
  {
   "cell_type": "code",
   "execution_count": null,
   "metadata": {},
   "outputs": [],
   "source": [
    "def reverse_of_string():\n",
    "    \"\"\"it reverses the input string\"\"\"\n",
    "    s = input(\"Enter a string to reverse it\")\n",
    "    return s[::-1]\n",
    "reverse_of_string()"
   ]
  },
  {
   "cell_type": "markdown",
   "metadata": {},
   "source": [
    "Q3. Implement a Python function that takes a list of integers and returns a new list containing the squares of\n",
    "    each number."
   ]
  },
  {
   "cell_type": "code",
   "execution_count": null,
   "metadata": {},
   "outputs": [],
   "source": [
    "def find_square(f):\n",
    "    \"\"\"It squares each number in the given list and creates a new list with it\"\"\"\n",
    "    squared_list = []\n",
    "    for c in f :\n",
    "        squared_list.append(c**2)\n",
    "    return squared_list\n",
    "find_square([1,2,3,4,5,6,7])"
   ]
  },
  {
   "cell_type": "markdown",
   "metadata": {},
   "source": [
    "Q4. Write a Python function that checks if a given number is prime or not from 1 to 200."
   ]
  },
  {
   "cell_type": "code",
   "execution_count": null,
   "metadata": {},
   "outputs": [],
   "source": [
    "def check_prime(x):\n",
    "    if x <= 1 :\n",
    "        return False\n",
    "    for i in range (2, int(x/2)+1):\n",
    "        if x %  i == 0 :\n",
    "            return False\n",
    "    return True\n",
    "check_prime(12)\n",
    "    \n"
   ]
  },
  {
   "cell_type": "markdown",
   "metadata": {},
   "source": [
    "Q5. Create an iterator class in Python that generates the Fibonacci sequence up to a specified number of terms.\n"
   ]
  },
  {
   "cell_type": "code",
   "execution_count": null,
   "metadata": {},
   "outputs": [],
   "source": [
    "def fibo_series(x):\n",
    "    a = 0\n",
    "    b = 1\n",
    "    for i in range(x):\n",
    "        yield(a)\n",
    "        a,b = b,a+b\n",
    "fib = fibo_series(100)\n",
    "next(fib)\n",
    "next(fib)\n",
    "next(fib)\n",
    "next(fib)\n",
    "next(fib)\n"
   ]
  },
  {
   "cell_type": "markdown",
   "metadata": {},
   "source": [
    "Q6. Write a generator function in Python that yields the powers of 2 up to a given exponent."
   ]
  },
  {
   "cell_type": "code",
   "execution_count": null,
   "metadata": {},
   "outputs": [],
   "source": [
    "def power_of_2(e):\n",
    "    for i in range(e+1):\n",
    "        x = 2**i\n",
    "        yield(x)\n",
    "y = power_of_2(5)\n",
    "next(y)\n",
    "next(y)\n"
   ]
  },
  {
   "cell_type": "markdown",
   "metadata": {},
   "source": [
    "Q7. Implement a generator function that reads a file line by line and yields each line as a string."
   ]
  },
  {
   "cell_type": "markdown",
   "metadata": {},
   "source": [
    "NOTHING RELATED TO A FILE HAS BEEN TAUGHT IN LECTURES AND WHEN I AM TRYING TO TAKE HELP FROM GOOGLE IT IS SUGGESTING USING WITH AND TRY KEYWORDS WHICH AGAIN ARE NOT TAUGHT IN THE CLASS."
   ]
  },
  {
   "cell_type": "markdown",
   "metadata": {},
   "source": [
    "Q8. Use a lambda function in Python to sort a list of tuples based on the second element of each tuple."
   ]
  },
  {
   "cell_type": "code",
   "execution_count": null,
   "metadata": {},
   "outputs": [],
   "source": [
    "tuple_list = [(1,4,3,3,5),(3,2,5,2),(7,8,3,7,8),(3,5,7,3,5)]\n",
    "sorted_list = sorted(tuple_list, key=lambda x:x[1] )\n",
    "print(sorted_list)\n"
   ]
  },
  {
   "cell_type": "markdown",
   "metadata": {},
   "source": [
    "Q9. Write a Python program that uses `map()` to convert a list of temperatures from Celsius to Fahrenheit."
   ]
  },
  {
   "cell_type": "code",
   "execution_count": null,
   "metadata": {},
   "outputs": [],
   "source": [
    "celsius = [20,30,40,50]\n",
    "\n",
    "list(map(lambda x: (x*9/5)+32 , celsius))"
   ]
  },
  {
   "cell_type": "markdown",
   "metadata": {},
   "source": [
    "Q10. Create a Python program that uses `filter()` to remove all the vowels from a given string."
   ]
  },
  {
   "cell_type": "code",
   "execution_count": null,
   "metadata": {},
   "outputs": [],
   "source": [
    "string = \"aeroplane\"\n",
    "vowels = [\"a\",\"e\",\"i\",\"o\",\"u\"]\n",
    "\n",
    "list(filter(lambda x: x not in vowels, string))"
   ]
  },
  {
   "cell_type": "markdown",
   "metadata": {},
   "source": [
    "Q11.Write a Python program, which returns a list with 2-tuples. Each tuple consists of the order number and the\n",
    "    product of the price per item and the quantity. The product should be increased by 10,- € if the value of theorder is smaller than 100,00 €.\n",
    "\n",
    "    Write a Python program using lambda and map.\n"
   ]
  },
  {
   "cell_type": "code",
   "execution_count": null,
   "metadata": {},
   "outputs": [],
   "source": [
    "# this question has many grammatical errors it can't be understood"
   ]
  }
 ],
 "metadata": {
  "kernelspec": {
   "display_name": "Python 3",
   "language": "python",
   "name": "python3"
  },
  "language_info": {
   "codemirror_mode": {
    "name": "ipython",
    "version": 3
   },
   "file_extension": ".py",
   "mimetype": "text/x-python",
   "name": "python",
   "nbconvert_exporter": "python",
   "pygments_lexer": "ipython3",
   "version": "3.13.1"
  }
 },
 "nbformat": 4,
 "nbformat_minor": 2
}
